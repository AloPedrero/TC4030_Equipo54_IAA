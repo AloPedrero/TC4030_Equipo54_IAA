{
  "cells": [
    {
      "cell_type": "markdown",
      "metadata": {
        "id": "K95zrUNvxSee"
      },
      "source": [
        "# **SOLUCIÓN DEL PROFESOR - NO PUBLICAR**"
      ]
    },
    {
      "cell_type": "markdown",
      "metadata": {
        "id": "dBbWMn9ebmi8"
      },
      "source": [
        "# Maestría en Inteligencia Artificial Aplicada\n",
        "\n",
        "## Curso: Inteligencia Artificial y Aprendizaje Automático\n",
        "\n",
        "### Tecnológico de Monterrey\n",
        "\n",
        "### Prof Luis Eduardo Falcón Morales\n",
        "\n",
        "## Adtividad de las Semanas 5 y 6\n",
        "### **Problema de asignación de créditos: South German Dataset.**\n"
      ]
    },
    {
      "cell_type": "markdown",
      "metadata": {
        "id": "YiwEw8XsZG2W"
      },
      "source": [
        "## **Nombres y matrículas:**\n",
        "\n",
        "\n",
        "\n",
        "*   Nombre y matrícula\n",
        "\n",
        "*   Nombre y matrícula\n",
        "\n"
      ]
    },
    {
      "cell_type": "markdown",
      "metadata": {
        "id": "AUxxkjE6shkH"
      },
      "source": [
        "# **Parte I: Partición, análisis y pre-procesamiento de los datos.**"
      ]
    },
    {
      "cell_type": "markdown",
      "metadata": {
        "id": "a08Di3GjkL1Y"
      },
      "source": [
        "## **Ejercicio 1**"
      ]
    },
    {
      "cell_type": "code",
      "execution_count": 50,
      "metadata": {
        "id": "6VGEpE4SblfD"
      },
      "outputs": [],
      "source": [
        "# Aquí deberás incluir todas las librerías que requieras durante esta actividad:\n",
        "import pandas as pd\n",
        "from sklearn.model_selection import train_test_split\n",
        "from sklearn.preprocessing import StandardScaler, OneHotEncoder\n",
        "from sklearn.compose import ColumnTransformer\n",
        "from sklearn.pipeline import Pipeline\n",
        "from sklearn.linear_model import LogisticRegression\n",
        "from sklearn.neighbors import KNeighborsClassifier\n",
        "from sklearn.tree import DecisionTreeClassifier\n",
        "from sklearn.ensemble import RandomForestClassifier\n",
        "from xgboost import XGBClassifier\n",
        "from sklearn.neural_network import MLPClassifier\n",
        "from sklearn.svm import SVC\n",
        "from sklearn.model_selection import RepeatedStratifiedKFold, cross_validate\n",
        "import numpy as np\n",
        "from sklearn.metrics import accuracy_score, precision_score, recall_score, f1_score\n",
        "import matplotlib.pyplot as plt\n",
        "import seaborn as sns\n",
        "import warnings\n",
        "from imblearn.over_sampling import RandomOverSampler\n"
      ]
    },
    {
      "cell_type": "code",
      "execution_count": 2,
      "metadata": {
        "id": "K3gUzoM3iRkt"
      },
      "outputs": [],
      "source": [
        "# Si se desean comentar algunos de los Warnings.\n",
        "#import warnings\n",
        "#warnings.filterwarnings(\"ignore\")"
      ]
    },
    {
      "cell_type": "code",
      "execution_count": 3,
      "metadata": {
        "id": "ppyf8TTgb9zq"
      },
      "outputs": [
        {
          "data": {
            "text/html": [
              "<div>\n",
              "<style scoped>\n",
              "    .dataframe tbody tr th:only-of-type {\n",
              "        vertical-align: middle;\n",
              "    }\n",
              "\n",
              "    .dataframe tbody tr th {\n",
              "        vertical-align: top;\n",
              "    }\n",
              "\n",
              "    .dataframe thead th {\n",
              "        text-align: right;\n",
              "    }\n",
              "</style>\n",
              "<table border=\"1\" class=\"dataframe\">\n",
              "  <thead>\n",
              "    <tr style=\"text-align: right;\">\n",
              "      <th></th>\n",
              "      <th>status</th>\n",
              "      <th>duration</th>\n",
              "      <th>credit_history</th>\n",
              "      <th>purpose</th>\n",
              "      <th>amount</th>\n",
              "      <th>savings</th>\n",
              "      <th>employment_duration</th>\n",
              "      <th>installment_rate</th>\n",
              "      <th>personal_status_sex</th>\n",
              "      <th>other_debtors</th>\n",
              "      <th>...</th>\n",
              "      <th>property</th>\n",
              "      <th>age</th>\n",
              "      <th>other_installment_plans</th>\n",
              "      <th>housing</th>\n",
              "      <th>number_credits</th>\n",
              "      <th>job</th>\n",
              "      <th>people_liable</th>\n",
              "      <th>telephone</th>\n",
              "      <th>foreign_worker</th>\n",
              "      <th>credit_risk</th>\n",
              "    </tr>\n",
              "  </thead>\n",
              "  <tbody>\n",
              "    <tr>\n",
              "      <th>0</th>\n",
              "      <td>1</td>\n",
              "      <td>18</td>\n",
              "      <td>4</td>\n",
              "      <td>2</td>\n",
              "      <td>1049</td>\n",
              "      <td>1</td>\n",
              "      <td>2</td>\n",
              "      <td>4</td>\n",
              "      <td>2</td>\n",
              "      <td>1</td>\n",
              "      <td>...</td>\n",
              "      <td>2</td>\n",
              "      <td>21</td>\n",
              "      <td>3</td>\n",
              "      <td>1</td>\n",
              "      <td>1</td>\n",
              "      <td>3</td>\n",
              "      <td>2</td>\n",
              "      <td>1</td>\n",
              "      <td>2</td>\n",
              "      <td>1</td>\n",
              "    </tr>\n",
              "    <tr>\n",
              "      <th>1</th>\n",
              "      <td>1</td>\n",
              "      <td>9</td>\n",
              "      <td>4</td>\n",
              "      <td>0</td>\n",
              "      <td>2799</td>\n",
              "      <td>1</td>\n",
              "      <td>3</td>\n",
              "      <td>2</td>\n",
              "      <td>3</td>\n",
              "      <td>1</td>\n",
              "      <td>...</td>\n",
              "      <td>1</td>\n",
              "      <td>36</td>\n",
              "      <td>3</td>\n",
              "      <td>1</td>\n",
              "      <td>2</td>\n",
              "      <td>3</td>\n",
              "      <td>1</td>\n",
              "      <td>1</td>\n",
              "      <td>2</td>\n",
              "      <td>1</td>\n",
              "    </tr>\n",
              "    <tr>\n",
              "      <th>2</th>\n",
              "      <td>2</td>\n",
              "      <td>12</td>\n",
              "      <td>2</td>\n",
              "      <td>9</td>\n",
              "      <td>841</td>\n",
              "      <td>2</td>\n",
              "      <td>4</td>\n",
              "      <td>2</td>\n",
              "      <td>2</td>\n",
              "      <td>1</td>\n",
              "      <td>...</td>\n",
              "      <td>1</td>\n",
              "      <td>23</td>\n",
              "      <td>3</td>\n",
              "      <td>1</td>\n",
              "      <td>1</td>\n",
              "      <td>2</td>\n",
              "      <td>2</td>\n",
              "      <td>1</td>\n",
              "      <td>2</td>\n",
              "      <td>1</td>\n",
              "    </tr>\n",
              "    <tr>\n",
              "      <th>3</th>\n",
              "      <td>1</td>\n",
              "      <td>12</td>\n",
              "      <td>4</td>\n",
              "      <td>0</td>\n",
              "      <td>2122</td>\n",
              "      <td>1</td>\n",
              "      <td>3</td>\n",
              "      <td>3</td>\n",
              "      <td>3</td>\n",
              "      <td>1</td>\n",
              "      <td>...</td>\n",
              "      <td>1</td>\n",
              "      <td>39</td>\n",
              "      <td>3</td>\n",
              "      <td>1</td>\n",
              "      <td>2</td>\n",
              "      <td>2</td>\n",
              "      <td>1</td>\n",
              "      <td>1</td>\n",
              "      <td>1</td>\n",
              "      <td>1</td>\n",
              "    </tr>\n",
              "    <tr>\n",
              "      <th>4</th>\n",
              "      <td>1</td>\n",
              "      <td>12</td>\n",
              "      <td>4</td>\n",
              "      <td>0</td>\n",
              "      <td>2171</td>\n",
              "      <td>1</td>\n",
              "      <td>3</td>\n",
              "      <td>4</td>\n",
              "      <td>3</td>\n",
              "      <td>1</td>\n",
              "      <td>...</td>\n",
              "      <td>2</td>\n",
              "      <td>38</td>\n",
              "      <td>1</td>\n",
              "      <td>2</td>\n",
              "      <td>2</td>\n",
              "      <td>2</td>\n",
              "      <td>2</td>\n",
              "      <td>1</td>\n",
              "      <td>1</td>\n",
              "      <td>1</td>\n",
              "    </tr>\n",
              "    <tr>\n",
              "      <th>...</th>\n",
              "      <td>...</td>\n",
              "      <td>...</td>\n",
              "      <td>...</td>\n",
              "      <td>...</td>\n",
              "      <td>...</td>\n",
              "      <td>...</td>\n",
              "      <td>...</td>\n",
              "      <td>...</td>\n",
              "      <td>...</td>\n",
              "      <td>...</td>\n",
              "      <td>...</td>\n",
              "      <td>...</td>\n",
              "      <td>...</td>\n",
              "      <td>...</td>\n",
              "      <td>...</td>\n",
              "      <td>...</td>\n",
              "      <td>...</td>\n",
              "      <td>...</td>\n",
              "      <td>...</td>\n",
              "      <td>...</td>\n",
              "      <td>...</td>\n",
              "    </tr>\n",
              "    <tr>\n",
              "      <th>995</th>\n",
              "      <td>1</td>\n",
              "      <td>24</td>\n",
              "      <td>2</td>\n",
              "      <td>3</td>\n",
              "      <td>1987</td>\n",
              "      <td>1</td>\n",
              "      <td>3</td>\n",
              "      <td>2</td>\n",
              "      <td>3</td>\n",
              "      <td>1</td>\n",
              "      <td>...</td>\n",
              "      <td>1</td>\n",
              "      <td>21</td>\n",
              "      <td>3</td>\n",
              "      <td>1</td>\n",
              "      <td>1</td>\n",
              "      <td>2</td>\n",
              "      <td>1</td>\n",
              "      <td>1</td>\n",
              "      <td>2</td>\n",
              "      <td>0</td>\n",
              "    </tr>\n",
              "    <tr>\n",
              "      <th>996</th>\n",
              "      <td>1</td>\n",
              "      <td>24</td>\n",
              "      <td>2</td>\n",
              "      <td>0</td>\n",
              "      <td>2303</td>\n",
              "      <td>1</td>\n",
              "      <td>5</td>\n",
              "      <td>4</td>\n",
              "      <td>3</td>\n",
              "      <td>2</td>\n",
              "      <td>...</td>\n",
              "      <td>1</td>\n",
              "      <td>45</td>\n",
              "      <td>3</td>\n",
              "      <td>2</td>\n",
              "      <td>1</td>\n",
              "      <td>3</td>\n",
              "      <td>2</td>\n",
              "      <td>1</td>\n",
              "      <td>2</td>\n",
              "      <td>0</td>\n",
              "    </tr>\n",
              "    <tr>\n",
              "      <th>997</th>\n",
              "      <td>4</td>\n",
              "      <td>21</td>\n",
              "      <td>4</td>\n",
              "      <td>0</td>\n",
              "      <td>12680</td>\n",
              "      <td>5</td>\n",
              "      <td>5</td>\n",
              "      <td>4</td>\n",
              "      <td>3</td>\n",
              "      <td>1</td>\n",
              "      <td>...</td>\n",
              "      <td>4</td>\n",
              "      <td>30</td>\n",
              "      <td>3</td>\n",
              "      <td>3</td>\n",
              "      <td>1</td>\n",
              "      <td>4</td>\n",
              "      <td>2</td>\n",
              "      <td>2</td>\n",
              "      <td>2</td>\n",
              "      <td>0</td>\n",
              "    </tr>\n",
              "    <tr>\n",
              "      <th>998</th>\n",
              "      <td>2</td>\n",
              "      <td>12</td>\n",
              "      <td>2</td>\n",
              "      <td>3</td>\n",
              "      <td>6468</td>\n",
              "      <td>5</td>\n",
              "      <td>1</td>\n",
              "      <td>2</td>\n",
              "      <td>3</td>\n",
              "      <td>1</td>\n",
              "      <td>...</td>\n",
              "      <td>4</td>\n",
              "      <td>52</td>\n",
              "      <td>3</td>\n",
              "      <td>2</td>\n",
              "      <td>1</td>\n",
              "      <td>4</td>\n",
              "      <td>2</td>\n",
              "      <td>2</td>\n",
              "      <td>2</td>\n",
              "      <td>0</td>\n",
              "    </tr>\n",
              "    <tr>\n",
              "      <th>999</th>\n",
              "      <td>1</td>\n",
              "      <td>30</td>\n",
              "      <td>2</td>\n",
              "      <td>2</td>\n",
              "      <td>6350</td>\n",
              "      <td>5</td>\n",
              "      <td>5</td>\n",
              "      <td>4</td>\n",
              "      <td>3</td>\n",
              "      <td>1</td>\n",
              "      <td>...</td>\n",
              "      <td>2</td>\n",
              "      <td>31</td>\n",
              "      <td>3</td>\n",
              "      <td>2</td>\n",
              "      <td>1</td>\n",
              "      <td>3</td>\n",
              "      <td>2</td>\n",
              "      <td>1</td>\n",
              "      <td>2</td>\n",
              "      <td>0</td>\n",
              "    </tr>\n",
              "  </tbody>\n",
              "</table>\n",
              "<p>1000 rows × 21 columns</p>\n",
              "</div>"
            ],
            "text/plain": [
              "     status  duration  credit_history  purpose  amount  savings  \\\n",
              "0         1        18               4        2    1049        1   \n",
              "1         1         9               4        0    2799        1   \n",
              "2         2        12               2        9     841        2   \n",
              "3         1        12               4        0    2122        1   \n",
              "4         1        12               4        0    2171        1   \n",
              "..      ...       ...             ...      ...     ...      ...   \n",
              "995       1        24               2        3    1987        1   \n",
              "996       1        24               2        0    2303        1   \n",
              "997       4        21               4        0   12680        5   \n",
              "998       2        12               2        3    6468        5   \n",
              "999       1        30               2        2    6350        5   \n",
              "\n",
              "     employment_duration  installment_rate  personal_status_sex  \\\n",
              "0                      2                 4                    2   \n",
              "1                      3                 2                    3   \n",
              "2                      4                 2                    2   \n",
              "3                      3                 3                    3   \n",
              "4                      3                 4                    3   \n",
              "..                   ...               ...                  ...   \n",
              "995                    3                 2                    3   \n",
              "996                    5                 4                    3   \n",
              "997                    5                 4                    3   \n",
              "998                    1                 2                    3   \n",
              "999                    5                 4                    3   \n",
              "\n",
              "     other_debtors  ...  property  age  other_installment_plans  housing  \\\n",
              "0                1  ...         2   21                        3        1   \n",
              "1                1  ...         1   36                        3        1   \n",
              "2                1  ...         1   23                        3        1   \n",
              "3                1  ...         1   39                        3        1   \n",
              "4                1  ...         2   38                        1        2   \n",
              "..             ...  ...       ...  ...                      ...      ...   \n",
              "995              1  ...         1   21                        3        1   \n",
              "996              2  ...         1   45                        3        2   \n",
              "997              1  ...         4   30                        3        3   \n",
              "998              1  ...         4   52                        3        2   \n",
              "999              1  ...         2   31                        3        2   \n",
              "\n",
              "     number_credits  job  people_liable  telephone  foreign_worker  \\\n",
              "0                 1    3              2          1               2   \n",
              "1                 2    3              1          1               2   \n",
              "2                 1    2              2          1               2   \n",
              "3                 2    2              1          1               1   \n",
              "4                 2    2              2          1               1   \n",
              "..              ...  ...            ...        ...             ...   \n",
              "995               1    2              1          1               2   \n",
              "996               1    3              2          1               2   \n",
              "997               1    4              2          2               2   \n",
              "998               1    4              2          2               2   \n",
              "999               1    3              2          1               2   \n",
              "\n",
              "     credit_risk  \n",
              "0              1  \n",
              "1              1  \n",
              "2              1  \n",
              "3              1  \n",
              "4              1  \n",
              "..           ...  \n",
              "995            0  \n",
              "996            0  \n",
              "997            0  \n",
              "998            0  \n",
              "999            0  \n",
              "\n",
              "[1000 rows x 21 columns]"
            ]
          },
          "metadata": {},
          "output_type": "display_data"
        }
      ],
      "source": [
        "# Carga y renombra los nombres de las columnas del alemán al inglés y desplegamos\n",
        "# de nuevo el DataFrame para ver el resultado obtenido:\n",
        "\n",
        "# ************* Inlcuye aquí tu código:*****************************\n",
        "\n",
        "\n",
        "PATH = \"../files/SouthGermanCredit.asc\"\n",
        "df = pd.read_csv(PATH, sep=\" \")\n",
        "\n",
        "df.rename(columns={\"laufkont\" : \"status\", \"laufzeit\": \"duration\", \"moral\" : \"credit_history\",\n",
        "                   \"verw\" : \"purpose\", \"hoehe\" :\"amount\",\"sparkont\" : \"savings\",\n",
        "                   \"beszeit\" : \"employment_duration\", \"rate\" : \"installment_rate\",\n",
        "                   \"famges\" : \"personal_status_sex\",\"buerge\" : \"other_debtors\",\n",
        "                   \"wohnzeit\" : \"present_residence\", \"verm\" : \"property\", \"alter\" : \"age\",\n",
        "                   \"weitkred\" : \"other_installment_plans\", \"wohn\" : \"housing\",\n",
        "                   \"bishkred\" : \"number_credits\", \"beruf\" : \"job\", \"pers\" : \"people_liable\",\n",
        "                   \"telef\" : \"telephone\", \"gastarb\" : \"foreign_worker\", \"kredit\" : \"credit_risk\"},\n",
        "                    inplace = True)\n",
        "\n",
        "display(df)\n",
        "# *********** Aquí termina la sección de agregar código *************"
      ]
    },
    {
      "cell_type": "markdown",
      "metadata": {
        "id": "LckYCS8SlnFo"
      },
      "source": [
        "## **Ejercicio 2**"
      ]
    },
    {
      "cell_type": "code",
      "execution_count": 4,
      "metadata": {
        "id": "Tlg8jYbnlqNA"
      },
      "outputs": [
        {
          "name": "stdout",
          "output_type": "stream",
          "text": [
            "credit_risk\n",
            "1    700\n",
            "0    300\n",
            "Name: count, dtype: int64\n",
            "credit_risk\n",
            "0    700\n",
            "1    300\n",
            "Name: count, dtype: int64\n"
          ]
        }
      ],
      "source": [
        "# Los datos originales tienen en la variable de salida \"credit_risk\" a la clase negativa (buen cliente) con el valor de 1\n",
        "# y a la clase de interés positiva (mal cliente) con el valor de 0. Realiza a continuación una transformación para que la\n",
        "# clase negativa (buen cliente) quede ahora con el valor de 0 y la clase positiva (mal cliente) quede con el valor de 1.\n",
        "\n",
        "# ************* Inlcuye aquí tu código:*****************************\n",
        "\n",
        "print(df[\"credit_risk\"].value_counts())\n",
        "\n",
        "df[\"credit_risk\"] = (df[\"credit_risk\"] - 1) * -1\n",
        "\n",
        "# *********** Aquí termina la sección de agregar código *************\n",
        "\n",
        "\n",
        "print(df[\"credit_risk\"].value_counts())"
      ]
    },
    {
      "cell_type": "markdown",
      "metadata": {
        "id": "qQx2lbzTkEsQ"
      },
      "source": [
        "## **Ejercicio 3**"
      ]
    },
    {
      "cell_type": "code",
      "execution_count": 5,
      "metadata": {
        "id": "TP5-zdWVczhy"
      },
      "outputs": [
        {
          "name": "stdout",
          "output_type": "stream",
          "text": [
            "Dimensiones:\n",
            "Entrenamiento: (700, 20) (700,)\n",
            "Validación: (150, 20) (150,)\n",
            "Prueba: (150, 20) (150,)\n",
            "\n",
            "Porcentaje clases Positiva:70.29%, y Negativa:29.71%\n"
          ]
        }
      ],
      "source": [
        "# Realiza una partición de 70-15-15 en entrenamiento, validación y prueba.\n",
        "# Los nombres de los conjuntos deberán ser como se indican en los print de abajo:\n",
        "\n",
        "# ************* Inlcuye aquí tu código:*****************************\n",
        "X = df.drop(columns=[\"credit_risk\"])\n",
        "y = df[\"credit_risk\"]\n",
        "\n",
        "Xtrain, Xtest, ytrain, ytest = train_test_split(X, y, test_size=0.3, random_state=42)\n",
        "\n",
        "Xval, Xtest, yval, ytest = train_test_split(Xtest, ytest, test_size=0.5, random_state=42)\n",
        "\n",
        "\n",
        "\n",
        "# *********** Aquí termina la sección de agregar código *************\n",
        "\n",
        "\n",
        "# Mostremos las dimensiones de la partición generada:\n",
        "print(\"Dimensiones:\")\n",
        "print(\"Entrenamiento:\", Xtrain.shape, ytrain.shape)\n",
        "print(\"Validación:\", Xval.shape, yval.shape)\n",
        "print(\"Prueba:\", Xtest.shape, ytest.shape)\n",
        "\n",
        "# Y el porcentaje de cada clase de la variable de salida:\n",
        "tmp = ytrain.sum()/ytrain.shape[0]\n",
        "print(\"\\nPorcentaje clases Positiva:%.2f%%, y Negativa:%.2f%%\" % (100*(1-tmp),tmp*100))\n"
      ]
    },
    {
      "cell_type": "markdown",
      "metadata": {
        "id": "ptwAm_mOjVWH"
      },
      "source": [
        "### **Con base al porcentaje de los niveles de la variable de salida ¿podemos decir que tenemos un problema de datos desbalanceado? ¿Por qué?**\n",
        "\n",
        "\n",
        "\n",
        "### ++++++++ Inicia la sección de agregar texto: +++++++++++\n",
        "\n",
        "En este caso sí tenemos un problema de datos desvalanceados ya que hay más datos de clase negativa, de los datos de entrenamiento la gran mayoría son negativos cas con el 70% mientras que la clase positiva es casi del 30%\n",
        "\n",
        "### ++++++++ Termina la sección de agregar texto: +++++++++++\n",
        "\n"
      ]
    },
    {
      "cell_type": "markdown",
      "metadata": {
        "id": "ocmGcSC2j_2x"
      },
      "source": [
        "## **Ejercicio 4**"
      ]
    },
    {
      "cell_type": "markdown",
      "metadata": {
        "id": "EgO8Jh2bXrL0"
      },
      "source": [
        "### **Describe a continuación la información de cada variable: su descripción, el tipo de variable y para el caso de las categóricas, el total de niveles.**\n",
        "\n",
        "### ++++++++ Inicia la sección de agregar texto: +++++++++++\n",
        "\n",
        "\n",
        "### **6 Variables de entrada Categóricas Nominales:**\n",
        "\n",
        "*   **credit_history (total de niveles):** history of compliance with previous or concurrent credit contracts.\n",
        ">>0 : delay in paying off in the past, 1 : critical account/other credits elsewhere, 2 : no credits taken/all credits paid back duly, 3 : existing credits paid back duly till now, 4 : all credits at this bank paid back duly\n",
        "\n",
        "*   **purpose (total de niveles):** purpose for which the credit is needed.\n",
        ">> 0 : others, 1 : car (new), 2 : car (used), 3 : furniture/equipment, 4 : radio/television,  5 : domestic appliances, 6 : repairs, 7 : education, 8 : vacation, 9 : retraining, 10 : business \n",
        "\n",
        "*   **personal_status_sex (total de niveles):** combined information on sex and marital status; categorical; sex cannot be recovered from the variable, because male singles and female non-singles are coded with the same code (2); female widows cannot be easily classified, because the code table does not list them in any of the female categories.\n",
        ">> 1 : male : divorced/separated, 2 : female : non-single or male : single, 3 : male : married/widowed,  4 : female : single\n",
        "\n",
        "*   **other_debtors (total de niveles):** Is there another debtor or a guarantor for the credit?\n",
        ">> 1 : none, 2 : co-applicant, 3 : guarantor \n",
        "\n",
        "*   **other_installment_plans (total de niveles):** installment plans from providers other than the credit-giving bank\n",
        ">>1 : bank, 2 : stores, 3 : none\n",
        "\n",
        "*   **housing (total de niveles):** type of housing the debtor lives in\n",
        ">>  1 : for free, 2 : rent, 3 : own \n",
        "\n",
        "\n",
        "\n",
        "### **4 Variables Categóricas Binarias (3 de entrada y 1 de salida):**\n",
        "\n",
        "*   **people_liable:** number of persons who financially depend on the debtor\n",
        ">> 1 : 3 or more, 2 : 0 to 2 \n",
        "\n",
        "*   **telephone:** Is there a telephone landline registered on the debtor's name?\n",
        ">> 1 : no, 2 : yes (under customer name)\n",
        "\n",
        "\n",
        "*   **foreign_worker:** Is the debtor a foreign worker?\n",
        ">> 1 : yes, 2 : no \n",
        "\n",
        "\n",
        "*   **credit_risk: (Variable de salida)** history of compliance with previous or concurrent credit contracts\n",
        ">> 0 : bad, 1 : good\n",
        "\n",
        "\n",
        "### **5 Variables Categóricas Ordinales (Cuantitativas Discretas + Strings):**\n",
        "\n",
        "#### NOTA: Estas variables están formadas por niveles que contienen intervalos numéricos y de texto.\n",
        "\n",
        "\n",
        "*   **status (total de niveles):** status of the debtor's checking account with the bank.\n",
        ">> 1 : no checking account, 2 : ... < 0 DM, 3 : 0<= ... < 200 DM, 4 : ... >= 200 DM / salary for at least 1 year\n",
        "\n",
        "*   **savings (total de niveles):** debtor's savings.\n",
        ">> 1 : unknown/no savings account, 2 : ... <  100 DM, 3 : 100 <= ... <  500 DM, 4 : 500 <= ... < 1000 DM, 5 : ... >= 1000 DM\n",
        "\n",
        "*   **employment_duration (total de niveles):** duration of debtor's employment with current employer (ordinal; discretized quantitative).\n",
        ">>  1 : unemployed, 2 : < 1 yr, 3 : 1 <= ... < 4 yrs, 4 : 4 <= ... < 7 yrs, 5 : >= 7 yrs \n",
        "\n",
        "*   **property (total de niveles):** the debtor's most valuable property, i.e. the highest possible code is used. Code 2 is used, if codes 3 or 4 are not applicable and there is a car or any other relevant property that does not fall under variable sparkont.\n",
        ">> 1 : unknown / no property, 2 : car or other, 3 : building soc. savings agr./life insurance, \n",
        " 4 : real estate\n",
        "\n",
        "*   **job (total de niveles):** quality of debtor's job\n",
        ">> 1 : unemployed/unskilled - non-resident, 2 : unskilled - resident, 3 : skilled employee/official,  4 : manager/self-empl./highly qualif. employee\n",
        "\n",
        "### **3 Variables Categóricas Ordinales:**\n",
        "### NOTA: Estas categóricas ordinales están formadas solo por intervalos numéricos.\n",
        "\n",
        "*   **installment_rate (total de niveles):** credit installments as a percentage of debtor's disposable income\n",
        ">>1 : >= 35, 2 : 25 <= ... < 35,  3 : 20 <= ... < 25,  4 : < 20\n",
        "\n",
        "*   **present_residence (total de niveles):** length of time (in years) the debtor lives in the present residence\n",
        ">>1 : < 1 yr, 2 : 1 <= ... < 4 yrs, 3 : 4 <= ... < 7 yrs, 4 : >= 7 yrs \n",
        "\n",
        "*   **number_credits (total de niveles):** number of credits including the current one the debtor has (or had) at this bank (ordinal, discretized\n",
        "quantitative)\n",
        "\n",
        ">> 1 : 1, 2 : 2-3, 3 : 4-5 , 4 : >= 6\n",
        "\n",
        "\n",
        "### **3 Variables Numéricas reales o flotantes:**\n",
        "*   **duration:** credit duration in months.\n",
        "*   **amount:** credit amount in DM.\n",
        "*   **age:** age in years.\n",
        "\n",
        "\n",
        "### ++++++++ Termina la sección de agregar texto. +++++++++++"
      ]
    },
    {
      "cell_type": "markdown",
      "metadata": {
        "id": "zb5bE4WJj8Rw"
      },
      "source": [
        "## **Ejercicio 5**"
      ]
    },
    {
      "cell_type": "markdown",
      "metadata": {
        "id": "urAFNUyMjodn"
      },
      "source": [
        "### Análisis descriptivo de las variables usando el conjunto de entrenamiento.\n",
        "\n",
        "### Incluye a continuación todo el código que consideres necesario para analizar las variables y decidir en dado caso qué transformaciones les estarías aplicando."
      ]
    },
    {
      "cell_type": "code",
      "execution_count": 6,
      "metadata": {},
      "outputs": [
        {
          "data": {
            "text/plain": [
              "count    700.000000\n",
              "mean       0.297143\n",
              "std        0.457327\n",
              "min        0.000000\n",
              "25%        0.000000\n",
              "50%        0.000000\n",
              "75%        1.000000\n",
              "max        1.000000\n",
              "Name: credit_risk, dtype: float64"
            ]
          },
          "execution_count": 6,
          "metadata": {},
          "output_type": "execute_result"
        }
      ],
      "source": [
        "ytrain.describe()"
      ]
    },
    {
      "cell_type": "code",
      "execution_count": 7,
      "metadata": {
        "id": "FZNjwKewd9fK"
      },
      "outputs": [
        {
          "data": {
            "text/html": [
              "<div>\n",
              "<style scoped>\n",
              "    .dataframe tbody tr th:only-of-type {\n",
              "        vertical-align: middle;\n",
              "    }\n",
              "\n",
              "    .dataframe tbody tr th {\n",
              "        vertical-align: top;\n",
              "    }\n",
              "\n",
              "    .dataframe thead th {\n",
              "        text-align: right;\n",
              "    }\n",
              "</style>\n",
              "<table border=\"1\" class=\"dataframe\">\n",
              "  <thead>\n",
              "    <tr style=\"text-align: right;\">\n",
              "      <th></th>\n",
              "      <th>count</th>\n",
              "      <th>mean</th>\n",
              "      <th>std</th>\n",
              "      <th>min</th>\n",
              "      <th>25%</th>\n",
              "      <th>50%</th>\n",
              "      <th>75%</th>\n",
              "      <th>max</th>\n",
              "    </tr>\n",
              "  </thead>\n",
              "  <tbody>\n",
              "    <tr>\n",
              "      <th>status</th>\n",
              "      <td>700.0</td>\n",
              "      <td>2.587143</td>\n",
              "      <td>1.258837</td>\n",
              "      <td>1.0</td>\n",
              "      <td>1.00</td>\n",
              "      <td>2.0</td>\n",
              "      <td>4.00</td>\n",
              "      <td>4.0</td>\n",
              "    </tr>\n",
              "    <tr>\n",
              "      <th>duration</th>\n",
              "      <td>700.0</td>\n",
              "      <td>21.308571</td>\n",
              "      <td>12.139706</td>\n",
              "      <td>4.0</td>\n",
              "      <td>12.00</td>\n",
              "      <td>18.0</td>\n",
              "      <td>24.50</td>\n",
              "      <td>72.0</td>\n",
              "    </tr>\n",
              "    <tr>\n",
              "      <th>credit_history</th>\n",
              "      <td>700.0</td>\n",
              "      <td>2.548571</td>\n",
              "      <td>1.077371</td>\n",
              "      <td>0.0</td>\n",
              "      <td>2.00</td>\n",
              "      <td>2.0</td>\n",
              "      <td>4.00</td>\n",
              "      <td>4.0</td>\n",
              "    </tr>\n",
              "    <tr>\n",
              "      <th>purpose</th>\n",
              "      <td>700.0</td>\n",
              "      <td>2.872857</td>\n",
              "      <td>2.783480</td>\n",
              "      <td>0.0</td>\n",
              "      <td>1.00</td>\n",
              "      <td>2.0</td>\n",
              "      <td>3.00</td>\n",
              "      <td>10.0</td>\n",
              "    </tr>\n",
              "    <tr>\n",
              "      <th>amount</th>\n",
              "      <td>700.0</td>\n",
              "      <td>3319.404286</td>\n",
              "      <td>2830.077730</td>\n",
              "      <td>276.0</td>\n",
              "      <td>1346.75</td>\n",
              "      <td>2330.0</td>\n",
              "      <td>4212.75</td>\n",
              "      <td>18424.0</td>\n",
              "    </tr>\n",
              "    <tr>\n",
              "      <th>savings</th>\n",
              "      <td>700.0</td>\n",
              "      <td>2.081429</td>\n",
              "      <td>1.576998</td>\n",
              "      <td>1.0</td>\n",
              "      <td>1.00</td>\n",
              "      <td>1.0</td>\n",
              "      <td>3.00</td>\n",
              "      <td>5.0</td>\n",
              "    </tr>\n",
              "    <tr>\n",
              "      <th>employment_duration</th>\n",
              "      <td>700.0</td>\n",
              "      <td>3.380000</td>\n",
              "      <td>1.217963</td>\n",
              "      <td>1.0</td>\n",
              "      <td>3.00</td>\n",
              "      <td>3.0</td>\n",
              "      <td>5.00</td>\n",
              "      <td>5.0</td>\n",
              "    </tr>\n",
              "    <tr>\n",
              "      <th>installment_rate</th>\n",
              "      <td>700.0</td>\n",
              "      <td>2.990000</td>\n",
              "      <td>1.104633</td>\n",
              "      <td>1.0</td>\n",
              "      <td>2.00</td>\n",
              "      <td>3.0</td>\n",
              "      <td>4.00</td>\n",
              "      <td>4.0</td>\n",
              "    </tr>\n",
              "    <tr>\n",
              "      <th>personal_status_sex</th>\n",
              "      <td>700.0</td>\n",
              "      <td>2.675714</td>\n",
              "      <td>0.713037</td>\n",
              "      <td>1.0</td>\n",
              "      <td>2.00</td>\n",
              "      <td>3.0</td>\n",
              "      <td>3.00</td>\n",
              "      <td>4.0</td>\n",
              "    </tr>\n",
              "    <tr>\n",
              "      <th>other_debtors</th>\n",
              "      <td>700.0</td>\n",
              "      <td>1.137143</td>\n",
              "      <td>0.464528</td>\n",
              "      <td>1.0</td>\n",
              "      <td>1.00</td>\n",
              "      <td>1.0</td>\n",
              "      <td>1.00</td>\n",
              "      <td>3.0</td>\n",
              "    </tr>\n",
              "    <tr>\n",
              "      <th>present_residence</th>\n",
              "      <td>700.0</td>\n",
              "      <td>2.854286</td>\n",
              "      <td>1.095665</td>\n",
              "      <td>1.0</td>\n",
              "      <td>2.00</td>\n",
              "      <td>3.0</td>\n",
              "      <td>4.00</td>\n",
              "      <td>4.0</td>\n",
              "    </tr>\n",
              "    <tr>\n",
              "      <th>property</th>\n",
              "      <td>700.0</td>\n",
              "      <td>2.390000</td>\n",
              "      <td>1.049920</td>\n",
              "      <td>1.0</td>\n",
              "      <td>1.00</td>\n",
              "      <td>3.0</td>\n",
              "      <td>3.00</td>\n",
              "      <td>4.0</td>\n",
              "    </tr>\n",
              "    <tr>\n",
              "      <th>age</th>\n",
              "      <td>700.0</td>\n",
              "      <td>35.534286</td>\n",
              "      <td>11.162871</td>\n",
              "      <td>19.0</td>\n",
              "      <td>27.00</td>\n",
              "      <td>33.0</td>\n",
              "      <td>42.00</td>\n",
              "      <td>75.0</td>\n",
              "    </tr>\n",
              "    <tr>\n",
              "      <th>other_installment_plans</th>\n",
              "      <td>700.0</td>\n",
              "      <td>2.680000</td>\n",
              "      <td>0.699806</td>\n",
              "      <td>1.0</td>\n",
              "      <td>3.00</td>\n",
              "      <td>3.0</td>\n",
              "      <td>3.00</td>\n",
              "      <td>3.0</td>\n",
              "    </tr>\n",
              "    <tr>\n",
              "      <th>housing</th>\n",
              "      <td>700.0</td>\n",
              "      <td>1.952857</td>\n",
              "      <td>0.526065</td>\n",
              "      <td>1.0</td>\n",
              "      <td>2.00</td>\n",
              "      <td>2.0</td>\n",
              "      <td>2.00</td>\n",
              "      <td>3.0</td>\n",
              "    </tr>\n",
              "    <tr>\n",
              "      <th>number_credits</th>\n",
              "      <td>700.0</td>\n",
              "      <td>1.412857</td>\n",
              "      <td>0.573228</td>\n",
              "      <td>1.0</td>\n",
              "      <td>1.00</td>\n",
              "      <td>1.0</td>\n",
              "      <td>2.00</td>\n",
              "      <td>4.0</td>\n",
              "    </tr>\n",
              "    <tr>\n",
              "      <th>job</th>\n",
              "      <td>700.0</td>\n",
              "      <td>2.937143</td>\n",
              "      <td>0.654285</td>\n",
              "      <td>1.0</td>\n",
              "      <td>3.00</td>\n",
              "      <td>3.0</td>\n",
              "      <td>3.00</td>\n",
              "      <td>4.0</td>\n",
              "    </tr>\n",
              "    <tr>\n",
              "      <th>people_liable</th>\n",
              "      <td>700.0</td>\n",
              "      <td>1.852857</td>\n",
              "      <td>0.354502</td>\n",
              "      <td>1.0</td>\n",
              "      <td>2.00</td>\n",
              "      <td>2.0</td>\n",
              "      <td>2.00</td>\n",
              "      <td>2.0</td>\n",
              "    </tr>\n",
              "    <tr>\n",
              "      <th>telephone</th>\n",
              "      <td>700.0</td>\n",
              "      <td>1.431429</td>\n",
              "      <td>0.495630</td>\n",
              "      <td>1.0</td>\n",
              "      <td>1.00</td>\n",
              "      <td>1.0</td>\n",
              "      <td>2.00</td>\n",
              "      <td>2.0</td>\n",
              "    </tr>\n",
              "    <tr>\n",
              "      <th>foreign_worker</th>\n",
              "      <td>700.0</td>\n",
              "      <td>1.968571</td>\n",
              "      <td>0.174598</td>\n",
              "      <td>1.0</td>\n",
              "      <td>2.00</td>\n",
              "      <td>2.0</td>\n",
              "      <td>2.00</td>\n",
              "      <td>2.0</td>\n",
              "    </tr>\n",
              "  </tbody>\n",
              "</table>\n",
              "</div>"
            ],
            "text/plain": [
              "                         count         mean          std    min      25%  \\\n",
              "status                   700.0     2.587143     1.258837    1.0     1.00   \n",
              "duration                 700.0    21.308571    12.139706    4.0    12.00   \n",
              "credit_history           700.0     2.548571     1.077371    0.0     2.00   \n",
              "purpose                  700.0     2.872857     2.783480    0.0     1.00   \n",
              "amount                   700.0  3319.404286  2830.077730  276.0  1346.75   \n",
              "savings                  700.0     2.081429     1.576998    1.0     1.00   \n",
              "employment_duration      700.0     3.380000     1.217963    1.0     3.00   \n",
              "installment_rate         700.0     2.990000     1.104633    1.0     2.00   \n",
              "personal_status_sex      700.0     2.675714     0.713037    1.0     2.00   \n",
              "other_debtors            700.0     1.137143     0.464528    1.0     1.00   \n",
              "present_residence        700.0     2.854286     1.095665    1.0     2.00   \n",
              "property                 700.0     2.390000     1.049920    1.0     1.00   \n",
              "age                      700.0    35.534286    11.162871   19.0    27.00   \n",
              "other_installment_plans  700.0     2.680000     0.699806    1.0     3.00   \n",
              "housing                  700.0     1.952857     0.526065    1.0     2.00   \n",
              "number_credits           700.0     1.412857     0.573228    1.0     1.00   \n",
              "job                      700.0     2.937143     0.654285    1.0     3.00   \n",
              "people_liable            700.0     1.852857     0.354502    1.0     2.00   \n",
              "telephone                700.0     1.431429     0.495630    1.0     1.00   \n",
              "foreign_worker           700.0     1.968571     0.174598    1.0     2.00   \n",
              "\n",
              "                            50%      75%      max  \n",
              "status                      2.0     4.00      4.0  \n",
              "duration                   18.0    24.50     72.0  \n",
              "credit_history              2.0     4.00      4.0  \n",
              "purpose                     2.0     3.00     10.0  \n",
              "amount                   2330.0  4212.75  18424.0  \n",
              "savings                     1.0     3.00      5.0  \n",
              "employment_duration         3.0     5.00      5.0  \n",
              "installment_rate            3.0     4.00      4.0  \n",
              "personal_status_sex         3.0     3.00      4.0  \n",
              "other_debtors               1.0     1.00      3.0  \n",
              "present_residence           3.0     4.00      4.0  \n",
              "property                    3.0     3.00      4.0  \n",
              "age                        33.0    42.00     75.0  \n",
              "other_installment_plans     3.0     3.00      3.0  \n",
              "housing                     2.0     2.00      3.0  \n",
              "number_credits              1.0     2.00      4.0  \n",
              "job                         3.0     3.00      4.0  \n",
              "people_liable               2.0     2.00      2.0  \n",
              "telephone                   1.0     2.00      2.0  \n",
              "foreign_worker              2.0     2.00      2.0  "
            ]
          },
          "execution_count": 7,
          "metadata": {},
          "output_type": "execute_result"
        }
      ],
      "source": [
        "Xtrain.describe().T"
      ]
    },
    {
      "cell_type": "code",
      "execution_count": 8,
      "metadata": {},
      "outputs": [
        {
          "name": "stdout",
          "output_type": "stream",
          "text": [
            "<class 'pandas.core.frame.DataFrame'>\n",
            "Index: 700 entries, 541 to 102\n",
            "Data columns (total 20 columns):\n",
            " #   Column                   Non-Null Count  Dtype\n",
            "---  ------                   --------------  -----\n",
            " 0   status                   700 non-null    int64\n",
            " 1   duration                 700 non-null    int64\n",
            " 2   credit_history           700 non-null    int64\n",
            " 3   purpose                  700 non-null    int64\n",
            " 4   amount                   700 non-null    int64\n",
            " 5   savings                  700 non-null    int64\n",
            " 6   employment_duration      700 non-null    int64\n",
            " 7   installment_rate         700 non-null    int64\n",
            " 8   personal_status_sex      700 non-null    int64\n",
            " 9   other_debtors            700 non-null    int64\n",
            " 10  present_residence        700 non-null    int64\n",
            " 11  property                 700 non-null    int64\n",
            " 12  age                      700 non-null    int64\n",
            " 13  other_installment_plans  700 non-null    int64\n",
            " 14  housing                  700 non-null    int64\n",
            " 15  number_credits           700 non-null    int64\n",
            " 16  job                      700 non-null    int64\n",
            " 17  people_liable            700 non-null    int64\n",
            " 18  telephone                700 non-null    int64\n",
            " 19  foreign_worker           700 non-null    int64\n",
            "dtypes: int64(20)\n",
            "memory usage: 114.8 KB\n"
          ]
        }
      ],
      "source": [
        "Xtrain.info()"
      ]
    },
    {
      "cell_type": "markdown",
      "metadata": {
        "id": "_-W1Y9GxiW4Q"
      },
      "source": [
        "\n",
        "### **Describe y explica a continuación las transformaciones que has decidido aplicar a cada columna:**\n",
        "\n",
        "### ++++++++ Inicia la sección de agregar texto: +++++++++++\n",
        "\n",
        "- Para las variables numéricas, se decide un análisis de standard scaler.\n",
        "- Para las variables categoricas nominales, se decide una transformación one hot encoding\n",
        "\n",
        "### ++++++++ Termina la sección de agregar texto. +++++++++++\n"
      ]
    },
    {
      "cell_type": "markdown",
      "metadata": {
        "id": "B9i2CrLJs-1m"
      },
      "source": [
        "# **Parte II: Modelos de aprendizaje automático con los conjuntos originales de la partición realizada.**"
      ]
    },
    {
      "cell_type": "markdown",
      "metadata": {
        "id": "UJokj9Diyeu0"
      },
      "source": [
        "## **Ejercicio 6**"
      ]
    },
    {
      "cell_type": "code",
      "execution_count": 9,
      "metadata": {
        "id": "NvNYiIp9weCm"
      },
      "outputs": [],
      "source": [
        "# Transformaciones que se aplicarán a las variables numéricas usando la clase Pipeline de sklearn:\n",
        "\n",
        "# ************* Inlcuye aquí tu código:*****************************\n",
        "num_columns = [\"duration\", \"amount\", \"age\"]\n",
        "\n",
        "cat_columns = [\"credit_history\", \"purpose\", \"personal_status_sex\", \"other_debtors\",\n",
        "               \"other_installment_plans\", \"housing\"]\n",
        "\n",
        "# Variables numéricas:\n",
        "num_pipe = Pipeline([('scaler', StandardScaler())])\n",
        "num_pipe_nombres = [\"numericalEncoder\"]\n",
        "\n",
        "\n",
        "\n",
        "# Variables categóricas-Nominales:\n",
        "cat_pipe = Pipeline([('onehot', OneHotEncoder(handle_unknown='ignore'))])\n",
        "cat_pipe_nombres = [\"nominalEncoder\"]\n",
        "\n",
        "\n",
        "# Conjuntemos las transformaciones de todo tipo de variable y\n",
        "# dejamos sin procesar aquellas que hayas decidido no transformar:\n",
        "\n",
        "columnasTransformer = ColumnTransformer([\n",
        "    (\"numericalEncoder\", num_pipe, num_columns),\n",
        "    (\"nominalEncoder\", cat_pipe, cat_columns)])\n",
        "\n",
        "\n",
        "\n",
        "# *********** Aquí termina la sección de agregar código *************\n"
      ]
    },
    {
      "cell_type": "markdown",
      "metadata": {
        "id": "hZxyRbHL0gNF"
      },
      "source": [
        "## **Ejercicio 7**"
      ]
    },
    {
      "cell_type": "code",
      "execution_count": 10,
      "metadata": {
        "id": "d3lqBiH5wd1e"
      },
      "outputs": [
        {
          "name": "stdout",
          "output_type": "stream",
          "text": [
            "Dimensión de las variables de entrada ANTES de las transformaciones: (850, 20)\n",
            "Dimensión de las variables de entrada DESPUÉS de las transformaciones: (850, 31)\n"
          ]
        }
      ],
      "source": [
        "# Como se va a utilizar Validación-Cruzada, concatena los conjuntos de entrenamiento y validación\n",
        "# en uno nuevo conjunto aumentado que llamaremos trainval para utilizar como entrenamiento:\n",
        "\n",
        "# ************* Inlcuye aquí tu código:**************************\n",
        "\n",
        "Xtrainval = pd.concat([Xtrain, Xval])\n",
        "ytrainval = pd.concat([ytrain, yval])\n",
        "\n",
        "# *********** Aquí termina la sección de agregar código *************\n",
        "\n",
        "\n",
        "# Veamos cuántas varaibles nuevas se introducen con las transformaciones One-Hot-Encoding:\n",
        "Xtmp = Xtrainval.copy()\n",
        "tmp = columnasTransformer.fit_transform(Xtmp)\n",
        "print(\"Dimensión de las variables de entrada ANTES de las transformaciones:\", Xtmp.shape)\n",
        "print(\"Dimensión de las variables de entrada DESPUÉS de las transformaciones:\", tmp.shape)"
      ]
    },
    {
      "cell_type": "markdown",
      "metadata": {
        "id": "DyzIjcVAF6Y7"
      },
      "source": [
        "## **Ejercicio 8**"
      ]
    },
    {
      "cell_type": "code",
      "execution_count": 36,
      "metadata": {
        "id": "0hdi7AAtwd5G",
        "scrolled": true
      },
      "outputs": [],
      "source": [
        "# Definimos a continuación la función que llamamos \"mis_modelos\" que incluye\n",
        "# todos los modelos que deseamos comparar en el ejercicio.\n",
        "\n",
        "\n",
        "def mis_modelos():\n",
        "  modelos, nombres = list(), list()\n",
        "\n",
        "\n",
        "  # ************* Inlcuye aquí tu código:**************************\n",
        "  #\n",
        "  # Deberás incluir en cada modelo los argumentos que consideres\n",
        "  # adecuados para que cada uno converja y no esté sobreentrenado\n",
        "  # con respecto a la métrica de la exatitud (accuracy).\n",
        "\n",
        "\n",
        "  # Regresión Logística - Logistic Regression-LR:\n",
        "  # https://scikit-learn.org/stable/modules/generated/sklearn.linear_model.LogisticRegression.html\n",
        "  modelos.append(LogisticRegression( solver = \"saga\", class_weight = \"balanced\"))\n",
        "  nombres.append(\"LR\")\n",
        "  # k-Vecinos más Cercanos : k-Nearest-Neighbors-kNN:\n",
        "  # https://scikit-learn.org/stable/modules/generated/sklearn.neighbors.KNeighborsClassifier.html\n",
        "  modelos.append(KNeighborsClassifier( n_neighbors = 8 , weights = \"distance\", algorithm = \"brute\"))\n",
        "  nombres.append(\"kNN\")\n",
        "  # Árbol de decisiones-DecisionTree-DT:\n",
        "  # https://scikit-learn.org/stable/modules/generated/sklearn.tree.DecisionTreeClassifier.html\n",
        "  modelos.append(DecisionTreeClassifier( criterion = \"entropy\", splitter = \"random\"))\n",
        "  nombres.append(\"DTree\")\n",
        "  # Bosque Aleatorio-RandomForest-RF:\n",
        "  # https://scikit-learn.org/stable/modules/generated/sklearn.ensemble.RandomForestClassifier.html\n",
        "  modelos.append(RandomForestClassifier( n_estimators = 150, criterion = \"log_loss\"))\n",
        "  nombres.append(\"RF\")\n",
        "  # XGBoosting:\n",
        "  # https://xgboost.readthedocs.io/en/latest/python/python_api.html#xgboost.XGBClassifier\n",
        "  # https://xgboost.readthedocs.io/en/stable/parameter.html\n",
        "  modelos.append(XGBClassifier())\n",
        "  nombres.append(\"XGBoost\")\n",
        "  # Red neuronal de Perceptrón Multicapa-MLP:\n",
        "  # https://scikit-learn.org/stable/modules/generated/sklearn.neural_network.MLPClassifier.html\n",
        "  modelos.append(MLPClassifier())\n",
        "  nombres.append(\"MLP\")\n",
        "  # Máquina de Vectores de Soporte-SVM:\n",
        "  # https://scikit-learn.org/stable/modules/generated/sklearn.svm.SVC.html\n",
        "  modelos.append(SVC( kernel = \"poly\", degree = 2))\n",
        "  nombres.append(\"SVM\")\n",
        "  # *********** Aquí termina la sección de agregar código *******************\n",
        "\n",
        "\n",
        "\n",
        "  return modelos, nombres"
      ]
    },
    {
      "cell_type": "code",
      "execution_count": 39,
      "metadata": {},
      "outputs": [
        {
          "name": "stdout",
          "output_type": "stream",
          "text": [
            ">> LR\n",
            "\t test_accuracy 0.680 (0.023)\n",
            "\t train_accuracy 0.698 (0.011)\n",
            "\t test_precision 0.477 (0.028)\n",
            "\t train_precision 0.499 (0.014)\n",
            "\t test_recall 0.633 (0.051)\n",
            "\t train_recall 0.670 (0.015)\n",
            "\t test_f1 0.543 (0.028)\n",
            "\t train_f1 0.572 (0.014)\n",
            ">> kNN\n",
            "\t test_accuracy 0.709 (0.031)\n",
            "\t train_accuracy 1.000 (0.000)\n",
            "\t test_precision 0.536 (0.101)\n",
            "\t train_precision 1.000 (0.000)\n",
            "\t test_recall 0.264 (0.066)\n",
            "\t train_recall 1.000 (0.000)\n",
            "\t test_f1 0.352 (0.077)\n",
            "\t train_f1 1.000 (0.000)\n",
            ">> DTree\n",
            "\t test_accuracy 0.669 (0.035)\n",
            "\t train_accuracy 1.000 (0.000)\n",
            "\t test_precision 0.448 (0.057)\n",
            "\t train_precision 1.000 (0.000)\n",
            "\t test_recall 0.440 (0.080)\n",
            "\t train_recall 1.000 (0.000)\n",
            "\t test_f1 0.443 (0.066)\n",
            "\t train_f1 1.000 (0.000)\n",
            ">> RF\n",
            "\t test_accuracy 0.720 (0.025)\n",
            "\t train_accuracy 1.000 (0.000)\n",
            "\t test_precision 0.567 (0.068)\n",
            "\t train_precision 1.000 (0.000)\n",
            "\t test_recall 0.321 (0.064)\n",
            "\t train_recall 1.000 (0.000)\n",
            "\t test_f1 0.406 (0.062)\n",
            "\t train_f1 1.000 (0.000)\n",
            ">> XGBoost\n",
            "\t test_accuracy 0.698 (0.028)\n",
            "\t train_accuracy 0.999 (0.001)\n",
            "\t test_precision 0.501 (0.060)\n",
            "\t train_precision 1.000 (0.000)\n",
            "\t test_recall 0.397 (0.063)\n",
            "\t train_recall 0.997 (0.003)\n",
            "\t test_f1 0.441 (0.055)\n",
            "\t train_f1 0.998 (0.001)\n",
            ">> MLP\n",
            "\t test_accuracy 0.721 (0.030)\n",
            "\t train_accuracy 0.881 (0.008)\n",
            "\t test_precision 0.556 (0.072)\n",
            "\t train_precision 0.896 (0.017)\n",
            "\t test_recall 0.409 (0.069)\n",
            "\t train_recall 0.686 (0.022)\n",
            "\t test_f1 0.467 (0.061)\n",
            "\t train_f1 0.777 (0.016)\n",
            ">> SVM\n",
            "\t test_accuracy 0.734 (0.027)\n",
            "\t train_accuracy 0.798 (0.011)\n",
            "\t test_precision 0.649 (0.108)\n",
            "\t train_precision 0.880 (0.028)\n",
            "\t test_recall 0.258 (0.068)\n",
            "\t train_recall 0.383 (0.037)\n",
            "\t test_f1 0.366 (0.080)\n",
            "\t train_f1 0.532 (0.037)\n"
          ]
        }
      ],
      "source": [
        "\n",
        "# Entrenamos cada uno de los modelos y desplegamos la métricas de Train y Val.\n",
        "\n",
        "# NOTA: Observa que el método de Validación-Cruzada llama  a los resultados\n",
        "#       de \"validation\" como \"test\":\n",
        "warnings.filterwarnings(\"ignore\")\n",
        "\n",
        "modelos, nombres = mis_modelos()\n",
        "resultados = list()\n",
        "resultados_precision = {}\n",
        "\n",
        "for i in range(len(modelos)):\n",
        "\n",
        "  # Definimos nuestro pipeline con las transformaciones y los modelos:\n",
        "  pipeline = Pipeline(steps=[(\"ct\",columnasTransformer),(\"m\",modelos[i])])\n",
        "\n",
        "  # Aplicaremos validación-cruzada:\n",
        "  micv = RepeatedStratifiedKFold(n_splits=5,\n",
        "                                 n_repeats=3,\n",
        "                                 random_state=5     # agreguemos una semilla para estabilizar resultados.\n",
        "                                 )\n",
        "\n",
        "\n",
        "  # Definimos las métricas que desamos recuperar:\n",
        "  mismetricas = [\"accuracy\",\"precision\",\"recall\",\"f1\"]   \n",
        "\n",
        "  # Llevamos a cabo el entrenamiento:\n",
        "  scores = cross_validate(pipeline,\n",
        "                          Xtrainval,\n",
        "                          ytrainval,\n",
        "                          scoring=mismetricas,\n",
        "                          cv=micv,\n",
        "                          return_train_score=True,\n",
        "                          )\n",
        "\n",
        "  # Guardemos el resultado de cada modelo para análisis posteriores.\n",
        "  resultados.append(scores)\n",
        "  resultados_precision[nombres[i]] = scores[\"test_precision\"]\n",
        "\n",
        "  # Desplegamos los valores de las métricas para verificar si no hay\n",
        "  # subentrenamiento o sobreentrenamiento:\n",
        "  print(\">> %s\" % nombres[i])\n",
        "  for j,k in enumerate(list(scores.keys())):\n",
        "      if j>1:\n",
        "          print(\"\\t %s %.3f (%.3f)\" % (k, np.mean(scores[k]),np.std(scores[k])))"
      ]
    },
    {
      "cell_type": "markdown",
      "metadata": {
        "id": "CGRvZ5QmBU5P"
      },
      "source": [
        "## **Ejercicio 9**"
      ]
    },
    {
      "cell_type": "markdown",
      "metadata": {
        "id": "5MeXfRLyIOLa"
      },
      "source": [
        "### **De acuerdo a la información de la matriz de costo dada en la documentación del problema, contesta las siguientes preguntas:**\n",
        "\n",
        "### ++++++++ Inicia la sección de agregar texto: +++++++++++\n",
        "\n",
        "a.   ¿Qué error se considera más costoso por parte del banco? ¿FP o FN? Justifica tu respuesta.\n",
        "\n",
        "Los errores de la matriz de costo de la documentación dicen que los errores más costosos para los créditos son los falsos positivos, ya que lo peor que se puede hacer es clasificar a un cliente como bueno cuando son malos.\n",
        "\n",
        "b.   ¿Cuál o cuáles serían entonces las métricas a considerar como más importantes? Justifica tu respuesta.\n",
        "\n",
        "La métrica más importante que considero para el problema es la de la precisión porque el costo de un falso positivo es alto y esta métrica nos mide el número de verdaderos positivos, dividio por el número de verdaderos positivos más los falsos positivos. Una precisión alta nos ayuda a minimizar el riesgo de otorgar préstamos a clientes que probablemente no paguen.\n",
        "\n",
        "\n",
        "\n",
        "### ++++++++ Termina la sección de agregar texto. +++++++++++\n"
      ]
    },
    {
      "cell_type": "markdown",
      "metadata": {
        "id": "4JkGo57zMXqn"
      },
      "source": [
        "## **Ejercicio 10**"
      ]
    },
    {
      "cell_type": "code",
      "execution_count": 47,
      "metadata": {
        "id": "DsV2wzymwdyV"
      },
      "outputs": [
        {
          "data": {
            "image/png": "[encoded data removed]",
            "text/plain": [
              "<Figure size 1200x600 with 1 Axes>"
            ]
          },
          "metadata": {},
          "output_type": "display_data"
        }
      ],
      "source": [
        "# Obtener un diagrama de caja y bigotes (boxplot) múltiple de todos los modelos,\n",
        "# utilizando los resultados obtenidos con la métrica que consideraste más importante\n",
        "# en el ejercicio anterior:\n",
        "\n",
        "\n",
        "# ************* Inlcuye aquí tu código:**************************\n",
        "\n",
        "df_precision = pd.DataFrame(resultados_precision)\n",
        "\n",
        "plt.figure(figsize=(12, 6))\n",
        "sns.boxplot(data=df_precision)\n",
        "plt.title(\"Distribución de Precisión por Modelo\")\n",
        "plt.xlabel(\"Modelo\")\n",
        "plt.ylabel(\"Precisión\")\n",
        "plt.show()\n",
        "\n",
        "# *********** Aquí termina la sección de agregar código *************\n"
      ]
    },
    {
      "cell_type": "markdown",
      "metadata": {
        "id": "mrHxhpEkmvbf"
      },
      "source": [
        "### **Incluye tus conclusiones al respecto, en particular indica cuáles consideras son los mejores modelos obtenidos.**\n",
        "\n",
        "### ++++++++ Inicia la sección de agregar texto: +++++++++++\n",
        "\n",
        "El mejor modelo de los anteriores es el de SVM ya que este tiene su mediana de datos de precisión casi en el máximo de los otros modelos y su umbral de precisión es más alto que los demás, teniendo su rango de precisión más alto que los otros modelos. Así teniendo más consistencia este modelo.\n",
        "\n",
        "### ++++++++ Termina la sección de agregar texto: +++++++++++\n",
        "\n"
      ]
    },
    {
      "cell_type": "markdown",
      "metadata": {
        "id": "TPOqRS7pNCNH"
      },
      "source": [
        "# **Parte III: Modelos con técnicas para clases no balanceadas.**"
      ]
    },
    {
      "cell_type": "markdown",
      "metadata": {
        "id": "HowUdsf7MqIJ"
      },
      "source": [
        "## **Ejercicio 11**"
      ]
    },
    {
      "cell_type": "code",
      "execution_count": 52,
      "metadata": {
        "id": "ZbfPqUkSwFxo"
      },
      "outputs": [
        {
          "name": "stdout",
          "output_type": "stream",
          "text": [
            ">> LR\n",
            "\t test_accuracy 0.668 (0.031)\n",
            "\t train_accuracy 0.690 (0.010)\n",
            "\t test_precision 0.675 (0.029)\n",
            "\t train_precision 0.698 (0.009)\n",
            "\t test_recall 0.647 (0.054)\n",
            "\t train_recall 0.669 (0.013)\n",
            "\t test_f1 0.660 (0.039)\n",
            "\t train_f1 0.683 (0.011)\n",
            ">> kNN\n",
            "\t test_accuracy 0.798 (0.029)\n",
            "\t train_accuracy 1.000 (0.000)\n",
            "\t test_precision 0.746 (0.031)\n",
            "\t train_precision 1.000 (0.000)\n",
            "\t test_recall 0.908 (0.032)\n",
            "\t train_recall 1.000 (0.000)\n",
            "\t test_f1 0.818 (0.024)\n",
            "\t train_f1 1.000 (0.000)\n",
            ">> DTree\n",
            "\t test_accuracy 0.811 (0.030)\n",
            "\t train_accuracy 1.000 (0.000)\n",
            "\t test_precision 0.767 (0.034)\n",
            "\t train_precision 1.000 (0.000)\n",
            "\t test_recall 0.896 (0.026)\n",
            "\t train_recall 1.000 (0.000)\n",
            "\t test_f1 0.826 (0.025)\n",
            "\t train_f1 1.000 (0.000)\n",
            ">> RF\n",
            "\t test_accuracy 0.851 (0.024)\n",
            "\t train_accuracy 1.000 (0.000)\n",
            "\t test_precision 0.816 (0.025)\n",
            "\t train_precision 1.000 (0.000)\n",
            "\t test_recall 0.907 (0.026)\n",
            "\t train_recall 1.000 (0.000)\n",
            "\t test_f1 0.859 (0.023)\n",
            "\t train_f1 1.000 (0.000)\n",
            ">> XGBoost\n",
            "\t test_accuracy 0.840 (0.023)\n",
            "\t train_accuracy 1.000 (0.001)\n",
            "\t test_precision 0.798 (0.029)\n",
            "\t train_precision 1.000 (0.000)\n",
            "\t test_recall 0.911 (0.025)\n",
            "\t train_recall 0.999 (0.001)\n",
            "\t test_f1 0.851 (0.020)\n",
            "\t train_f1 1.000 (0.001)\n",
            ">> MLP\n",
            "\t test_accuracy 0.762 (0.025)\n",
            "\t train_accuracy 0.884 (0.009)\n",
            "\t test_precision 0.751 (0.029)\n",
            "\t train_precision 0.885 (0.012)\n",
            "\t test_recall 0.787 (0.052)\n",
            "\t train_recall 0.882 (0.013)\n",
            "\t test_f1 0.768 (0.028)\n",
            "\t train_f1 0.884 (0.009)\n",
            ">> SVM\n",
            "\t test_accuracy 0.700 (0.021)\n",
            "\t train_accuracy 0.762 (0.010)\n",
            "\t test_precision 0.716 (0.022)\n",
            "\t train_precision 0.791 (0.021)\n",
            "\t test_recall 0.662 (0.047)\n",
            "\t train_recall 0.713 (0.014)\n",
            "\t test_f1 0.687 (0.029)\n",
            "\t train_f1 0.750 (0.008)\n"
          ]
        }
      ],
      "source": [
        "# Selecciona una técnica de sobremuestreo y/o submuestreo\n",
        "# para clases no balanceadas que consideres adecuada.\n",
        "\n",
        "\n",
        "\n",
        "# ************* Inlcuye aquí tu código:**************************\n",
        "\n",
        "oversampler = RandomOverSampler(random_state=42)\n",
        "X_train_resampled, y_train_resampled = oversampler.fit_resample(Xtrainval, ytrainval)\n",
        "\n",
        "\n",
        "warnings.filterwarnings(\"ignore\")\n",
        "\n",
        "modelos, nombres = mis_modelos()\n",
        "resultados = list()\n",
        "resultados_precision = {}\n",
        "\n",
        "for i in range(len(modelos)):\n",
        "\n",
        "  # Definimos nuestro pipeline con las transformaciones y los modelos:\n",
        "  pipeline = Pipeline(steps=[(\"ct\",columnasTransformer),(\"m\",modelos[i])])\n",
        "\n",
        "  # Aplicaremos validación-cruzada:\n",
        "  micv = RepeatedStratifiedKFold(n_splits=5,\n",
        "                                 n_repeats=3,\n",
        "                                 random_state=5     # agreguemos una semilla para estabilizar resultados.\n",
        "                                 )\n",
        "\n",
        "\n",
        "  # Definimos las métricas que desamos recuperar:\n",
        "  mismetricas = [\"accuracy\",\"precision\",\"recall\",\"f1\"]   \n",
        "\n",
        "  # Llevamos a cabo el entrenamiento:\n",
        "  scores = cross_validate(pipeline,\n",
        "                          X_train_resampled,\n",
        "                          y_train_resampled,\n",
        "                          scoring=mismetricas,\n",
        "                          cv=micv,\n",
        "                          return_train_score=True,\n",
        "                          )\n",
        "\n",
        "  # Guardemos el resultado de cada modelo para análisis posteriores.\n",
        "  resultados.append(scores)\n",
        "  resultados_precision[nombres[i]] = scores[\"test_precision\"]\n",
        "\n",
        "  # Desplegamos los valores de las métricas para verificar si no hay\n",
        "  # subentrenamiento o sobreentrenamiento:\n",
        "  print(\">> %s\" % nombres[i])\n",
        "  for j,k in enumerate(list(scores.keys())):\n",
        "      if j>1:\n",
        "          print(\"\\t %s %.3f (%.3f)\" % (k, np.mean(scores[k]),np.std(scores[k])))\n",
        "# *********** Aquí termina la sección de agregar código *************\n"
      ]
    },
    {
      "cell_type": "markdown",
      "metadata": {
        "id": "vNisnGnk6Q7g"
      },
      "source": [
        "## **Ejercicio 12**"
      ]
    },
    {
      "cell_type": "code",
      "execution_count": 53,
      "metadata": {
        "id": "W9ZXNgJcxKdl"
      },
      "outputs": [
        {
          "data": {
            "image/png": "[encoded data removed]",
            "text/plain": [
              "<Figure size 1200x600 with 1 Axes>"
            ]
          },
          "metadata": {},
          "output_type": "display_data"
        }
      ],
      "source": [
        "# Obtener un diagrama de caja y bigotes (boxplot) múltiple de todos los modelos,\n",
        "# que incluye submuestreo y/o sobremuestreo:\n",
        "\n",
        "\n",
        "# ************* Inlcuye aquí tu código:**************************\n",
        "\n",
        "df_precision = pd.DataFrame(resultados_precision)\n",
        "\n",
        "plt.figure(figsize=(12, 6))\n",
        "sns.boxplot(data=df_precision)\n",
        "plt.title(\"Distribución de Precisión por Modelo\")\n",
        "plt.xlabel(\"Modelo\")\n",
        "plt.ylabel(\"Precisión\")\n",
        "plt.show()\n",
        "\n",
        "\n",
        "# *********** Aquí termina la sección de agregar código *************"
      ]
    },
    {
      "cell_type": "markdown",
      "metadata": {
        "id": "hDV5EpEIRsy4"
      },
      "source": [
        "# **Parte IV: Mejor modelo**"
      ]
    },
    {
      "cell_type": "markdown",
      "metadata": {
        "id": "PORgZ7b_WTq-"
      },
      "source": [
        "## **Ejercicio 13**"
      ]
    },
    {
      "cell_type": "markdown",
      "metadata": {
        "id": "FBSVeSgfWSgn"
      },
      "source": [
        "### **Selecciona y justifica cuál consideras es el mejor modelo que has obtenido hasta ahora.**\n",
        "\n",
        "### ++++++++ Inicia la sección de agregar texto: +++++++++++\n",
        "\n",
        "Al utilizar una técnica de sobremuetreo para las clases no balanceadas. Se obtuvo que el mejor modelo fue el de Random Forest donde su mediana de precisión fue el más alto junto con cuartiles más altos que los demás modelos y valores mínimos y máximos más altos que los demás.\n",
        "\n",
        "### ++++++++ Termina la sección de agregar texto. +++++++++++\n"
      ]
    },
    {
      "cell_type": "markdown",
      "metadata": {
        "id": "slDkvQ37Wtst"
      },
      "source": [
        "## **Ejercicio 14**"
      ]
    },
    {
      "cell_type": "code",
      "execution_count": null,
      "metadata": {
        "id": "ZRZUVESUXQhY"
      },
      "outputs": [],
      "source": [
        "# Incluye aquí tu mejor modelo. Verifica que tu modelo no esté sobreentrenado\n",
        "# e indica cuáles son los mejores valores obtenidos de los hiperparámetros.\n",
        "\n",
        "\n",
        "# Con el mejor modelo y los mejores hiperparámetros encontrados en el ejercicio anterior,\n",
        "# utiliza ahora (por primera vez en la actividad) el conjunto de prueba (test set) para:\n",
        "\n",
        "# a.\tMejor modelo con los mejores hiperparámetros y el conjunto de prueba.\n",
        "\n",
        "\n",
        "# ************* Inlcuye aquí tu código:**************************\n",
        "\n",
        "None\n",
        "\n",
        "# *********** Aquí termina la sección de agregar código *************\n"
      ]
    },
    {
      "cell_type": "code",
      "execution_count": null,
      "metadata": {
        "id": "lBd-VuoAXZZX"
      },
      "outputs": [],
      "source": [
        "# b.\tObtener la matriz de confusión y el classification_report().\n",
        "\n",
        "# ************* Inlcuye aquí tu código:**************************\n",
        "\n",
        "None\n",
        "\n",
        "\n",
        "# *********** Aquí termina la sección de agregar código *************"
      ]
    },
    {
      "cell_type": "code",
      "execution_count": null,
      "metadata": {
        "id": "Ngslji43XsO_"
      },
      "outputs": [],
      "source": [
        "# c.\tRealiza un análisis de importancia de variables (feature importance) de este\n",
        "#     mejor modelo e incluye tus conclusiones al respecto.\n",
        "\n",
        "# ************* Inlcuye aquí tu código:**************************\n",
        "\n",
        "None\n",
        "\n",
        "\n",
        "# *********** Aquí termina la sección de agregar código *************"
      ]
    },
    {
      "cell_type": "markdown",
      "metadata": {
        "id": "hzJcWAWz8aG_"
      },
      "source": [
        "\n",
        "### ++++++++ Inicia la sección de agregar texto: +++++++++++\n",
        "\n",
        "None\n",
        "\n",
        "### ++++++++ Termina la sección de agregar texto. +++++++++++"
      ]
    },
    {
      "cell_type": "markdown",
      "metadata": {
        "id": "AeTAcfFKX3Sm"
      },
      "source": [
        "## **Ejercicio 15**"
      ]
    },
    {
      "cell_type": "markdown",
      "metadata": {
        "id": "n04HnK-ZX4vl"
      },
      "source": [
        "### **Escribe tus conclusiones finales de la actividad.**"
      ]
    },
    {
      "cell_type": "markdown",
      "metadata": {
        "id": "R7s7iDgKYEn9"
      },
      "source": [
        "### ++++++++ Inicia la sección de agregar texto: +++++++++++\n",
        "\n",
        "None\n",
        "\n",
        "\n",
        "### ++++++++ Termina la sección de agregar texto. +++++++++++\n"
      ]
    },
    {
      "cell_type": "markdown",
      "metadata": {
        "id": "v-tW_CdUYMdl"
      },
      "source": [
        ">> ### **Fin de la Actividad de las Semanas 5 y 6.**"
      ]
    }
  ],
  "metadata": {
    "colab": {
      "collapsed_sections": [
        "AUxxkjE6shkH",
        "B9i2CrLJs-1m",
        "TPOqRS7pNCNH",
        "hDV5EpEIRsy4"
      ],
      "provenance": []
    },
    "kernelspec": {
      "display_name": "Python 3 (ipykernel)",
      "language": "python",
      "name": "python3"
    },
    "language_info": {
      "codemirror_mode": {
        "name": "ipython",
        "version": 3
      },
      "file_extension": ".py",
      "mimetype": "text/x-python",
      "name": "python",
      "nbconvert_exporter": "python",
      "pygments_lexer": "ipython3",
      "version": "3.12.0"
    }
  },
  "nbformat": 4,
  "nbformat_minor": 0
}
